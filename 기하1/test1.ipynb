{
 "cells": [
  {
   "cell_type": "code",
   "execution_count": 51,
   "metadata": {},
   "outputs": [
    {
     "name": "stdout",
     "output_type": "stream",
     "text": [
      "right\n",
      "wrong\n",
      "right\n"
     ]
    }
   ],
   "source": [
    "# 4153번 직각삼각형\n",
    "\n",
    "import math\n",
    "def isTry(_list):\n",
    "    if math.pow(_list[2],2) == math.pow(_list[0],2)+math.pow(_list[1],2):\n",
    "        return \"right\"\n",
    "    else :\n",
    "        return \"wrong\"\n",
    "    \n",
    "a,b,c, =map(int,input().split())\n",
    "    \n",
    "while not a==0 & b==0 & c==0:\n",
    "    # print(a,b,c)\n",
    "    _list = [a,b,c]\n",
    "    _list = sorted(_list)\n",
    "    # print(_list)\n",
    "    print(isTry(_list))\n",
    "    \n",
    "    a,b,c, =map(int,input().split())"
   ]
  },
  {
   "cell_type": "code",
   "execution_count": null,
   "metadata": {},
   "outputs": [],
   "source": []
  }
 ],
 "metadata": {
  "kernelspec": {
   "display_name": "Python 3.10.4 64-bit",
   "language": "python",
   "name": "python3"
  },
  "language_info": {
   "codemirror_mode": {
    "name": "ipython",
    "version": 3
   },
   "file_extension": ".py",
   "mimetype": "text/x-python",
   "name": "python",
   "nbconvert_exporter": "python",
   "pygments_lexer": "ipython3",
   "version": "3.10.6"
  },
  "orig_nbformat": 4,
  "vscode": {
   "interpreter": {
    "hash": "916dbcbb3f70747c44a77c7bcd40155683ae19c65e1c03b4aa3499c5328201f1"
   }
  }
 },
 "nbformat": 4,
 "nbformat_minor": 2
}
