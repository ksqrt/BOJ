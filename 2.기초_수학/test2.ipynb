{
 "cells": [
  {
   "cell_type": "code",
   "execution_count": 61,
   "metadata": {},
   "outputs": [
    {
     "name": "stdout",
     "output_type": "stream",
     "text": [
      "1\n"
     ]
    }
   ],
   "source": [
    "# 1037 약수\n",
    "#  n = 진짜 약수의 개수\n",
    "n = int(input())\n",
    "_list = list(map(int,input().split()))\n",
    "print(min(_list)*max(_list))\n"
   ]
  },
  {
   "cell_type": "code",
   "execution_count": 62,
   "metadata": {},
   "outputs": [
    {
     "name": "stdout",
     "output_type": "stream",
     "text": [
      "4\n"
     ]
    }
   ],
   "source": [
    "# 17427 약수의 합1\n",
    "\n",
    "# 약수를 모두 리턴해주는 함수\n",
    "def fun1(num):\n",
    "    tmp = []\n",
    "    tmp2 = []\n",
    "    for i in range(1,num+1):\n",
    "        if num% i == 0:\n",
    "            tmp.append(i)\n",
    "    tmp2.append(sum(tmp))\n",
    "    return sum(tmp2)\n",
    "n = int(input())\n",
    "\n",
    "# for 문으로 차래대로 함수를 적용 해 append\n",
    "tmp = []\n",
    "for i in range(1,n+1):\n",
    "    a = fun1(i)\n",
    "    tmp.append(a)\n",
    "    \n",
    "# append 한것의 sum 값 출력\n",
    "print(sum(tmp))"
   ]
  },
  {
   "cell_type": "code",
   "execution_count": 63,
   "metadata": {},
   "outputs": [
    {
     "name": "stdout",
     "output_type": "stream",
     "text": [
      "87\n"
     ]
    }
   ],
   "source": [
    "n = int(input())\n",
    "\n",
    "result = 0\n",
    "for i in range(1, n + 1):\n",
    "    result += (n // i) * i\n",
    "print(result)"
   ]
  },
  {
   "cell_type": "code",
   "execution_count": 67,
   "metadata": {},
   "outputs": [
    {
     "ename": "ValueError",
     "evalue": "invalid literal for int() with base 10: ''",
     "output_type": "error",
     "traceback": [
      "\u001b[0;31m---------------------------------------------------------------------------\u001b[0m",
      "\u001b[0;31mValueError\u001b[0m                                Traceback (most recent call last)",
      "\u001b[0;32m<ipython-input-67-5e28991622a7>\u001b[0m in \u001b[0;36m<module>\u001b[0;34m\u001b[0m\n\u001b[0;32m----> 1\u001b[0;31m \u001b[0ma\u001b[0m \u001b[0;34m=\u001b[0m \u001b[0mint\u001b[0m\u001b[0;34m(\u001b[0m\u001b[0minput\u001b[0m\u001b[0;34m(\u001b[0m\u001b[0;34m)\u001b[0m\u001b[0;34m)\u001b[0m\u001b[0;34m\u001b[0m\u001b[0;34m\u001b[0m\u001b[0m\n\u001b[0m\u001b[1;32m      2\u001b[0m \u001b[0;34m\u001b[0m\u001b[0m\n\u001b[1;32m      3\u001b[0m \u001b[0;31m# 리스트에 입력 받을 수 다 저장\u001b[0m\u001b[0;34m\u001b[0m\u001b[0;34m\u001b[0m\u001b[0;34m\u001b[0m\u001b[0m\n\u001b[1;32m      4\u001b[0m \u001b[0m_list\u001b[0m \u001b[0;34m=\u001b[0m \u001b[0;34m[\u001b[0m\u001b[0;34m]\u001b[0m\u001b[0;34m\u001b[0m\u001b[0;34m\u001b[0m\u001b[0m\n\u001b[1;32m      5\u001b[0m \u001b[0;32mfor\u001b[0m \u001b[0mi\u001b[0m \u001b[0;32min\u001b[0m \u001b[0mrange\u001b[0m\u001b[0;34m(\u001b[0m\u001b[0ma\u001b[0m\u001b[0;34m)\u001b[0m\u001b[0;34m:\u001b[0m\u001b[0;34m\u001b[0m\u001b[0;34m\u001b[0m\u001b[0m\n",
      "\u001b[0;31mValueError\u001b[0m: invalid literal for int() with base 10: ''"
     ]
    }
   ],
   "source": [
    "a = int(input())\n",
    "\n",
    "# 리스트에 입력 받을 수 다 저장\n",
    "_list = []\n",
    "for i in range(a):\n",
    "    _list.append(int(input()))\n",
    "# 리스트안의 가장 큰 값으로 케이스 값 다 저장\n",
    "n = max(_list)\n",
    "\n",
    "def fun1(n):\n",
    "    result = 0\n",
    "    for i in range(1,n+1):\n",
    "        result += (n//i) * i\n",
    "    return result\n",
    "\n",
    "tmp =[]\n",
    "\n",
    "for i in range(1,n+1):\n",
    "    tmp.append(fun1(i))\n",
    "\n",
    "# 리스트의 케이스 뺴오기\n",
    "for i in range(a):\n",
    "    case = _list[i]\n",
    "    # print(case)\n",
    "    print(tmp[case-1])\n"
   ]
  },
  {
   "cell_type": "code",
   "execution_count": 3,
   "metadata": {},
   "outputs": [
    {
     "name": "stdout",
     "output_type": "stream",
     "text": [
      "1\n",
      "\n"
     ]
    }
   ],
   "source": [
    "# 최대값 설정\n",
    "MAX=1000000\n",
    "\n",
    "# DP 1로 초기화\n",
    "dp = [1]*(MAX+1)\n",
    "\n",
    "# S: 값 누적 리스트\n",
    "s = [0]*(MAX+1)\n",
    "\n",
    "for i in range(2, MAX+1):\n",
    "    while i*j <= MAX:\n",
    "    \t# i의 배수에 값 추가\n",
    "        dp[i*j] += i\n",
    "        j += 1\n",
    "\n",
    "for i in range(1, MAX+1):\n",
    "\t# 누적 값 계산\n",
    "    s[i] = s[i-1] + dp[i]\n",
    "\n",
    "n = int(input())\n",
    "ans=[]\n",
    "for _ in range(n):\n",
    "    a=int(input())\n",
    "    ans.append(s[a])\n",
    "print('\\n'.join(map(str, ans))+'\\n')"
   ]
  }
 ],
 "metadata": {
  "kernelspec": {
   "display_name": "Python 3",
   "language": "python",
   "name": "python3"
  },
  "language_info": {
   "codemirror_mode": {
    "name": "ipython",
    "version": 3
   },
   "file_extension": ".py",
   "mimetype": "text/x-python",
   "name": "python",
   "nbconvert_exporter": "python",
   "pygments_lexer": "ipython3",
   "version": "3.6.9"
  },
  "orig_nbformat": 4,
  "vscode": {
   "interpreter": {
    "hash": "31f2aee4e71d21fbe5cf8b01ff0e069b9275f58929596ceb00d14d90e3e16cd6"
   }
  }
 },
 "nbformat": 4,
 "nbformat_minor": 2
}
