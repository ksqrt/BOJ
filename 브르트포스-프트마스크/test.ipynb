{
 "cells": [
  {
   "cell_type": "code",
   "execution_count": 5,
   "metadata": {},
   "outputs": [
    {
     "ename": "AttributeError",
     "evalue": "'set' object has no attribute 'append'",
     "output_type": "error",
     "traceback": [
      "\u001b[1;31m---------------------------------------------------------------------------\u001b[0m",
      "\u001b[1;31mAttributeError\u001b[0m                            Traceback (most recent call last)",
      "Cell \u001b[1;32mIn [5], line 14\u001b[0m\n\u001b[0;32m     11\u001b[0m \u001b[39mif\u001b[39;00m command \u001b[39m==\u001b[39m \u001b[39m\"\u001b[39m\u001b[39madd\u001b[39m\u001b[39m\"\u001b[39m:\n\u001b[0;32m     12\u001b[0m     \u001b[39m# num 이 집합 안에 없으면 append\u001b[39;00m\n\u001b[0;32m     13\u001b[0m     \u001b[39mif\u001b[39;00m num \u001b[39mnot\u001b[39;00m \u001b[39min\u001b[39;00m empty_set:\n\u001b[1;32m---> 14\u001b[0m         empty_set\u001b[39m.\u001b[39;49mappend(num)\n\u001b[0;32m     15\u001b[0m \u001b[39melif\u001b[39;00m command \u001b[39m==\u001b[39m \u001b[39m\"\u001b[39m\u001b[39mremove\u001b[39m\u001b[39m\"\u001b[39m:\n\u001b[0;32m     16\u001b[0m     \u001b[39m# num 이 집합 안에 있으면 remove\u001b[39;00m\n\u001b[0;32m     17\u001b[0m     \u001b[39mif\u001b[39;00m num \u001b[39min\u001b[39;00m empty_set:\n",
      "\u001b[1;31mAttributeError\u001b[0m: 'set' object has no attribute 'append'"
     ]
    }
   ],
   "source": [
    "# 11723 번 집합\n",
    "#\n",
    "n = int(input())\n",
    "\n",
    "empty_set= []\n",
    "\n",
    "while (n!=0):\n",
    "    command,num = input().split()\n",
    "    num = int(num)\n",
    "    \n",
    "    if command == \"add\":\n",
    "        # num 이 집합 안에 없으면 append\n",
    "        if num not in empty_set:\n",
    "            empty_set.append(num)\n",
    "    elif command == \"remove\":\n",
    "        # num 이 집합 안에 있으면 remove\n",
    "        if num in empty_set:\n",
    "            empty_set.remove(num)\n",
    "    elif command == \"check\":\n",
    "        # num 이 집합안에 있으면 1 출력 아님 0\n",
    "        if num in empty_set:\n",
    "            print(1)\n",
    "        else:\n",
    "            print(0)\n",
    "    elif command == \"toggle\":\n",
    "        # num 이 집합안에 있으면 제거 \n",
    "        if num in empty_set:\n",
    "            empty_set.remove(num)\n",
    "        # 없으면 추가\n",
    "        else:\n",
    "            empty_set.append(num)\n",
    "    elif command == \"all\":\n",
    "        empty_set= [i for i in range(1,21)]\n",
    "    elif command == \"empty\":\n",
    "        empty_set = []\n",
    "    \n",
    "    n -=1"
   ]
  }
 ],
 "metadata": {
  "kernelspec": {
   "display_name": "Python 3",
   "language": "python",
   "name": "python3"
  },
  "language_info": {
   "codemirror_mode": {
    "name": "ipython",
    "version": 3
   },
   "file_extension": ".py",
   "mimetype": "text/x-python",
   "name": "python",
   "nbconvert_exporter": "python",
   "pygments_lexer": "ipython3",
   "version": "3.10.7"
  },
  "orig_nbformat": 4,
  "vscode": {
   "interpreter": {
    "hash": "61ccd7d91250bf5c42ce8ba89122ebeaf36617862967c9a94e5f00ec0cf47596"
   }
  }
 },
 "nbformat": 4,
 "nbformat_minor": 2
}
