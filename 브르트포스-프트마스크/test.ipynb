{
 "cells": [
  {
   "cell_type": "code",
   "execution_count": 2,
   "metadata": {},
   "outputs": [
    {
     "ename": "ValueError",
     "evalue": "invalid literal for int() with base 10: ''",
     "output_type": "error",
     "traceback": [
      "\u001b[0;31m---------------------------------------------------------------------------\u001b[0m",
      "\u001b[0;31mValueError\u001b[0m                                Traceback (most recent call last)",
      "\u001b[0;32m<ipython-input-2-30e785bcee24>\u001b[0m in \u001b[0;36m<module>\u001b[0;34m\u001b[0m\n\u001b[1;32m      1\u001b[0m \u001b[0;31m# 11723 번 집합\u001b[0m\u001b[0;34m\u001b[0m\u001b[0;34m\u001b[0m\u001b[0;34m\u001b[0m\u001b[0m\n\u001b[1;32m      2\u001b[0m \u001b[0;31m#\u001b[0m\u001b[0;34m\u001b[0m\u001b[0;34m\u001b[0m\u001b[0;34m\u001b[0m\u001b[0m\n\u001b[0;32m----> 3\u001b[0;31m \u001b[0mn\u001b[0m \u001b[0;34m=\u001b[0m \u001b[0mint\u001b[0m\u001b[0;34m(\u001b[0m\u001b[0minput\u001b[0m\u001b[0;34m(\u001b[0m\u001b[0;34m)\u001b[0m\u001b[0;34m)\u001b[0m\u001b[0;34m\u001b[0m\u001b[0;34m\u001b[0m\u001b[0m\n\u001b[0m\u001b[1;32m      4\u001b[0m \u001b[0;34m\u001b[0m\u001b[0m\n\u001b[1;32m      5\u001b[0m \u001b[0mempty_set\u001b[0m\u001b[0;34m=\u001b[0m \u001b[0mset\u001b[0m\u001b[0;34m(\u001b[0m\u001b[0;34m)\u001b[0m\u001b[0;34m\u001b[0m\u001b[0;34m\u001b[0m\u001b[0m\n",
      "\u001b[0;31mValueError\u001b[0m: invalid literal for int() with base 10: ''"
     ]
    }
   ],
   "source": [
    "# 11723 번 집합\n",
    "#\n",
    "n = int(input())\n",
    "\n",
    "empty_set= set()\n",
    "\n",
    "while (n!=0):\n",
    "    command = input().split()\n",
    "    if len(command) > 1 :\n",
    "        num = int(command[1])\n",
    "    command = command[0]\n",
    "    \n",
    "    if command == \"add\":\n",
    "        # num 이 집합 안에 없으면 append\n",
    "        # if num not in empty_set:\n",
    "        # set 은 중복 허용을 하지않아 if 문으로 찾을 필요 없음\n",
    "        empty_set.add(num)\n",
    "    elif command == \"remove\":\n",
    "        # num 이 집합 안에 있으면 remove\n",
    "        # if num in empty_set:\n",
    "        empty_set.discard(num)\n",
    "    elif command == \"check\":\n",
    "        # num 이 집합안에 있으면 1 출력 아님 0\n",
    "        if num in empty_set:\n",
    "            print(1)\n",
    "        else:\n",
    "            print(0)\n",
    "    elif command == \"toggle\":\n",
    "        # num 이 집합안에 있으면 제거 \n",
    "        if num in empty_set:\n",
    "            empty_set.discard(num)\n",
    "        # 없으면 추가\n",
    "        else:\n",
    "            empty_set.add(num)\n",
    "            \n",
    "    elif command == \"all\":\n",
    "        empty_set=set([i for i in range(1,21)])\n",
    "    elif command == \"empty\":\n",
    "        empty_set = set([])\n",
    "    \n",
    "    n -=1"
   ]
  },
  {
   "cell_type": "code",
   "execution_count": null,
   "metadata": {},
   "outputs": [],
   "source": [
    "# 1182 부분 수열의 합"
   ]
  },
  {
   "cell_type": "code",
   "execution_count": 20,
   "metadata": {},
   "outputs": [
    {
     "name": "stdout",
     "output_type": "stream",
     "text": [
      "[[(-7,), (-3,), (-2,), (5,), (8,)], [(-7, -3), (-7, -2), (-7, 5), (-7, 8), (-3, -2), (-3, 5), (-3, 8), (-2, 5), (-2, 8), (5, 8)], [(-7, -3, -2), (-7, -3, 5), (-7, -3, 8), (-7, -2, 5), (-7, -2, 8), (-7, 5, 8), (-3, -2, 5), (-3, -2, 8), (-3, 5, 8), (-2, 5, 8)], [(-7, -3, -2, 5), (-7, -3, -2, 8), (-7, -3, 5, 8), (-7, -2, 5, 8), (-3, -2, 5, 8)], [(-7, -3, -2, 5, 8)]]\n",
      "1\n"
     ]
    }
   ],
   "source": [
    "\n",
    "# 1182 부분수열의 합\n",
    "import sys\n",
    "path = __file__[0:-2] + 'txt'\n",
    "sys.stdin = open(path, 'r')\n",
    "input = sys.stdin.readline\n",
    "\n",
    "from itertools import *\n",
    "\n",
    "n,s = map(int,input().split())\n",
    "\n",
    "_stack = []\n",
    "_arr = list(map(int,input().split()))\n",
    "cnt = 0\n",
    "\n",
    "for i in range(1,len(_arr)+1):\n",
    "    # 1. 조합들을 만든다 중복 x\n",
    "    k = list((combinations(_arr, i)))\n",
    "    # 2. 만든조합에서 sum 이 0 이 되는 값을 찾으면 카운트 +1\n",
    "    for i in k:\n",
    "        if sum(i) == s:\n",
    "            cnt += 1\n",
    "\n",
    "print(cnt)"
   ]
  }
 ],
 "metadata": {
  "kernelspec": {
   "display_name": "Python 3",
   "language": "python",
   "name": "python3"
  },
  "language_info": {
   "codemirror_mode": {
    "name": "ipython",
    "version": 3
   },
   "file_extension": ".py",
   "mimetype": "text/x-python",
   "name": "python",
   "nbconvert_exporter": "python",
   "pygments_lexer": "ipython3",
   "version": "3.6.9"
  },
  "orig_nbformat": 4,
  "vscode": {
   "interpreter": {
    "hash": "31f2aee4e71d21fbe5cf8b01ff0e069b9275f58929596ceb00d14d90e3e16cd6"
   }
  }
 },
 "nbformat": 4,
 "nbformat_minor": 2
}
