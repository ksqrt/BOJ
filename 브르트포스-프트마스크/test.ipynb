{
 "cells": [
  {
   "cell_type": "code",
   "execution_count": 2,
   "metadata": {},
   "outputs": [],
   "source": [
    "# 11723 번 집합\n",
    "#\n",
    "n = int(input())\n",
    "\n",
    "empty_set= []\n",
    "\n",
    "while (n!=0):\n",
    "    command,num = input().split()\n",
    "    num = int(num)\n",
    "    \n",
    "    if command == \"add\":\n",
    "        # num 이 집합 안에 없으면 append\n",
    "        if num not in empty_set:\n",
    "            empty_set.append(num)\n",
    "    elif command == \"remove\":\n",
    "        # num 이 집합 안에 있으면 remove\n",
    "        if num in empty_set:\n",
    "            empty_set.remove(num)\n",
    "    elif command == \"check\":\n",
    "        # num 이 집합안에 있으면 1 출력 아님 0\n",
    "        if num in empty_set:\n",
    "            print(1)\n",
    "        else:\n",
    "            print(0)\n",
    "    elif command == \"toggle\":\n",
    "        # num 이 집합안에 있으면 제거 \n",
    "        if num in empty_set:\n",
    "            empty_set.remove(num)\n",
    "        # 없으면 추가\n",
    "        else:\n",
    "            empty_set.append(num)\n",
    "    elif command == \"all\":\n",
    "        empty_set= [i for i in range(1,21)]\n",
    "    elif command == \"empty\":\n",
    "        empty_set = []\n",
    "    \n",
    "    n -=1\n",
    "    \n",
    "    \n"
   ]
  }
 ],
 "metadata": {
  "kernelspec": {
   "display_name": "Python 3",
   "language": "python",
   "name": "python3"
  },
  "language_info": {
   "codemirror_mode": {
    "name": "ipython",
    "version": 3
   },
   "file_extension": ".py",
   "mimetype": "text/x-python",
   "name": "python",
   "nbconvert_exporter": "python",
   "pygments_lexer": "ipython3",
   "version": "3.10.7"
  },
  "orig_nbformat": 4,
  "vscode": {
   "interpreter": {
    "hash": "61ccd7d91250bf5c42ce8ba89122ebeaf36617862967c9a94e5f00ec0cf47596"
   }
  }
 },
 "nbformat": 4,
 "nbformat_minor": 2
}
