{
 "cells": [
  {
   "cell_type": "code",
   "execution_count": 31,
   "metadata": {},
   "outputs": [
    {
     "name": "stdout",
     "output_type": "stream",
     "text": [
      "[13, 8, 10, 19, 23, 7, 20]\n",
      "[7, 8, 10, 13, 19, 20, 23]\n",
      "7\n",
      "8\n",
      "10\n",
      "13\n",
      "19\n",
      "20\n",
      "23\n"
     ]
    }
   ],
   "source": [
    "import itertools\n",
    "\n",
    "_list = []\n",
    "\n",
    "for i in range(9):\n",
    "    _list.append(int(input()))\n",
    "    \n",
    "\n",
    "result = list(itertools.permutations(_list,7))\n",
    "# print(\"**경우의 수 : %s개\" % len(result))\n",
    "\n",
    "real = []\n",
    "\n",
    "for i in result:\n",
    "    i = list(i)\n",
    "    if sum(i) == 100:\n",
    "        real = i\n",
    "        \n",
    "real.sort()\n",
    "\n",
    "for i in real:\n",
    "    print(i)\n",
    "\n",
    "\n"
   ]
  }
 ],
 "metadata": {
  "kernelspec": {
   "display_name": "Python 3",
   "language": "python",
   "name": "python3"
  },
  "language_info": {
   "codemirror_mode": {
    "name": "ipython",
    "version": 3
   },
   "file_extension": ".py",
   "mimetype": "text/x-python",
   "name": "python",
   "nbconvert_exporter": "python",
   "pygments_lexer": "ipython3",
   "version": "3.6.9"
  },
  "orig_nbformat": 4,
  "vscode": {
   "interpreter": {
    "hash": "31f2aee4e71d21fbe5cf8b01ff0e069b9275f58929596ceb00d14d90e3e16cd6"
   }
  }
 },
 "nbformat": 4,
 "nbformat_minor": 2
}
