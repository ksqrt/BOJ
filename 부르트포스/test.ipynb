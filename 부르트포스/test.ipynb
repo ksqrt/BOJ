{
 "cells": [
  {
   "cell_type": "code",
   "execution_count": 1,
   "metadata": {},
   "outputs": [
    {
     "ename": "ValueError",
     "evalue": "invalid literal for int() with base 10: ''",
     "output_type": "error",
     "traceback": [
      "\u001b[0;31m---------------------------------------------------------------------------\u001b[0m",
      "\u001b[0;31mValueError\u001b[0m                                Traceback (most recent call last)",
      "\u001b[0;32m<ipython-input-1-f928d9f008ce>\u001b[0m in \u001b[0;36m<module>\u001b[0;34m\u001b[0m\n\u001b[1;32m      4\u001b[0m \u001b[0;34m\u001b[0m\u001b[0m\n\u001b[1;32m      5\u001b[0m \u001b[0;32mfor\u001b[0m \u001b[0mi\u001b[0m \u001b[0;32min\u001b[0m \u001b[0mrange\u001b[0m\u001b[0;34m(\u001b[0m\u001b[0;36m9\u001b[0m\u001b[0;34m)\u001b[0m\u001b[0;34m:\u001b[0m\u001b[0;34m\u001b[0m\u001b[0;34m\u001b[0m\u001b[0m\n\u001b[0;32m----> 6\u001b[0;31m     \u001b[0m_list\u001b[0m\u001b[0;34m.\u001b[0m\u001b[0mappend\u001b[0m\u001b[0;34m(\u001b[0m\u001b[0mint\u001b[0m\u001b[0;34m(\u001b[0m\u001b[0minput\u001b[0m\u001b[0;34m(\u001b[0m\u001b[0;34m)\u001b[0m\u001b[0;34m)\u001b[0m\u001b[0;34m)\u001b[0m\u001b[0;34m\u001b[0m\u001b[0;34m\u001b[0m\u001b[0m\n\u001b[0m\u001b[1;32m      7\u001b[0m \u001b[0;34m\u001b[0m\u001b[0m\n\u001b[1;32m      8\u001b[0m \u001b[0;34m\u001b[0m\u001b[0m\n",
      "\u001b[0;31mValueError\u001b[0m: invalid literal for int() with base 10: ''"
     ]
    }
   ],
   "source": [
    "import itertools\n",
    "\n",
    "_list = []\n",
    "\n",
    "for i in range(9):\n",
    "    _list.append(int(input()))\n",
    "    \n",
    "\n",
    "result = list(itertools.permutations(_list,7))\n",
    "# print(\"**경우의 수 : %s개\" % len(result))\n",
    "\n",
    "real = []\n",
    "\n",
    "for i in result:\n",
    "    i = list(i)\n",
    "    if sum(i) == 100:\n",
    "        real = i\n",
    "        \n",
    "real.sort()\n",
    "\n",
    "for i in real:\n",
    "    print(i)\n",
    "\n",
    "\n"
   ]
  },
  {
   "cell_type": "code",
   "execution_count": 1,
   "metadata": {},
   "outputs": [
    {
     "name": "stdout",
     "output_type": "stream",
     "text": [
      "['', '', '', '', '']\n"
     ]
    }
   ],
   "source": [
    "# 3085 사탕게임 \n",
    "\n",
    "n = int(input())\n",
    "_stack = []\n",
    "for i in range(n):\n",
    "    k = input()\n",
    "    _stack.append(k)\n",
    "    \n",
    "print(_stack)\n",
    "\n"
   ]
  },
  {
   "cell_type": "code",
   "execution_count": 22,
   "metadata": {},
   "outputs": [
    {
     "name": "stdout",
     "output_type": "stream",
     "text": [
      "3\n"
     ]
    }
   ],
   "source": [
    "# 1476 날짜 계산\n",
    "\n",
    "a , b , c ,year = 1,1,1,1\n",
    "\n",
    "a1,b1,c1 = map(int,input().split())\n",
    "# 솔직히 비가역을 구하는건 너무 어렵다.. 따라서 while 문으로 나올때까지 반복\n",
    "\n",
    "# 처음 1 1 1 은 그냥 출력하고 나머지는 카운트\n",
    "if a1 == b1 == c1 == 1 :\n",
    "    print(1)\n",
    "    \n",
    "# while 문으로 1식 증가 시키며 \n",
    "# input 값과 같으면 break\n",
    "else :\n",
    "    while (True):\n",
    "        year +=1 \n",
    "        a += 1\n",
    "        b += 1\n",
    "        c += 1 \n",
    "        \n",
    "        if a == 16 :\n",
    "            a = 1\n",
    "        if b == 29 :\n",
    "            b = 1\n",
    "        if c == 20 :\n",
    "            c = 1\n",
    "        \n",
    "        if (a1 == a) & (b1 == b) & (c1 == c):\n",
    "            print(year)\n",
    "            break"
   ]
  },
  {
   "cell_type": "code",
   "execution_count": 1,
   "metadata": {},
   "outputs": [
    {
     "ename": "ValueError",
     "evalue": "not enough values to unpack (expected 3, got 0)",
     "output_type": "error",
     "traceback": [
<<<<<<< HEAD
      "\u001b[1;31m---------------------------------------------------------------------------\u001b[0m",
      "\u001b[1;31mValueError\u001b[0m                                Traceback (most recent call last)",
      "Cell \u001b[1;32mIn [1], line 1\u001b[0m\n\u001b[1;32m----> 1\u001b[0m a , b , c \u001b[39m=\u001b[39m \u001b[39mmap\u001b[39m(\u001b[39mint\u001b[39m,\u001b[39minput\u001b[39m()\u001b[39m.\u001b[39msplit())\n\u001b[0;32m      2\u001b[0m \u001b[39mprint\u001b[39m(a,b,c)\n",
      "\u001b[1;31mValueError\u001b[0m: not enough values to unpack (expected 3, got 0)"
=======
      "\u001b[0;31m---------------------------------------------------------------------------\u001b[0m",
      "\u001b[0;31mValueError\u001b[0m                                Traceback (most recent call last)",
      "\u001b[0;32m<ipython-input-1-be7b7c922dc9>\u001b[0m in \u001b[0;36m<module>\u001b[0;34m\u001b[0m\n\u001b[0;32m----> 1\u001b[0;31m \u001b[0ma\u001b[0m \u001b[0;34m,\u001b[0m \u001b[0mb\u001b[0m \u001b[0;34m,\u001b[0m \u001b[0mc\u001b[0m \u001b[0;34m=\u001b[0m \u001b[0mmap\u001b[0m\u001b[0;34m(\u001b[0m\u001b[0mint\u001b[0m\u001b[0;34m,\u001b[0m\u001b[0minput\u001b[0m\u001b[0;34m(\u001b[0m\u001b[0;34m)\u001b[0m\u001b[0;34m.\u001b[0m\u001b[0msplit\u001b[0m\u001b[0;34m(\u001b[0m\u001b[0;34m)\u001b[0m\u001b[0;34m)\u001b[0m\u001b[0;34m\u001b[0m\u001b[0;34m\u001b[0m\u001b[0m\n\u001b[0m\u001b[1;32m      2\u001b[0m \u001b[0mprint\u001b[0m\u001b[0;34m(\u001b[0m\u001b[0ma\u001b[0m\u001b[0;34m,\u001b[0m\u001b[0mb\u001b[0m\u001b[0;34m,\u001b[0m\u001b[0mc\u001b[0m\u001b[0;34m)\u001b[0m\u001b[0;34m\u001b[0m\u001b[0;34m\u001b[0m\u001b[0m\n",
      "\u001b[0;31mValueError\u001b[0m: not enough values to unpack (expected 3, got 0)"
>>>>>>> 62de47784cdbe70dbde6f9723d9de98f427fbc8e
     ]
    }
   ],
   "source": [
    "a , b , c = map(int,input().split())\n",
    "print(a,b,c)"
   ]
  },
  {
   "cell_type": "code",
<<<<<<< HEAD
   "execution_count": null,
   "metadata": {},
   "outputs": [],
   "source": [
    "a , b , c = map(int,input().split())\n",
    "print(a,b,c)"
=======
   "execution_count": 11,
   "metadata": {},
   "outputs": [
    {
     "data": {
      "text/plain": [
       "[0, 0, 0]"
      ]
     },
     "execution_count": 11,
     "metadata": {},
     "output_type": "execute_result"
    }
   ],
   "source": [
    "# 1. 채널입력\n",
    "\n",
    "channel = int(input())\n",
    "# 2. 버튼 입력\n",
    "n = int(input())\n",
    "\n",
    "wrongbutton = list(map(int,input().split()))\n",
    "\n",
    "\n",
    "# 1. 5455 (4)\n",
    "# 2. + 1\n",
    "# 3. + 1 \n",
    "count = 0\n",
    "first_channel = []\n",
    "for i in str(channel):\n",
    "    # 첫번째 숫자를 꺼내옴\n",
    "    i = int(i)\n",
    "    # i 가 고장나지 않은 버튼이면 ?\n",
    "    if i not in wrongbutton:\n",
    "        # 카운트 1추가\n",
    "        count += 1\n",
    "        first_channel.append(i)\n",
    "    # i 가 고장난 버튼이라면 \n",
    "    else :\n",
    "        tmp = [j-1 for j in wrongbutton]\n",
    "        # 가장 작은번쨰\n",
    "        lil_index = tmp.index(min(tmp))\n",
    "        count += 1\n",
    "        first_channel.append(wrongbutton[lil_index])\n",
    "\n",
    "\n",
    "\n",
    "first_channel"
>>>>>>> 62de47784cdbe70dbde6f9723d9de98f427fbc8e
   ]
  },
  {
   "cell_type": "code",
<<<<<<< HEAD
   "execution_count": null,
   "metadata": {},
   "outputs": [],
=======
   "execution_count": 8,
   "metadata": {},
   "outputs": [
    {
     "ename": "TypeError",
     "evalue": "unsupported operand type(s) for -: 'list' and 'int'",
     "output_type": "error",
     "traceback": [
      "\u001b[0;31m---------------------------------------------------------------------------\u001b[0m",
      "\u001b[0;31mTypeError\u001b[0m                                 Traceback (most recent call last)",
      "\u001b[0;32m<ipython-input-8-7df2aedd5157>\u001b[0m in \u001b[0;36m<module>\u001b[0;34m\u001b[0m\n\u001b[1;32m      1\u001b[0m \u001b[0ma\u001b[0m \u001b[0;34m=\u001b[0m \u001b[0;34m[\u001b[0m\u001b[0mrange\u001b[0m\u001b[0;34m(\u001b[0m\u001b[0;36m10\u001b[0m\u001b[0;34m)\u001b[0m\u001b[0;34m]\u001b[0m\u001b[0;34m\u001b[0m\u001b[0;34m\u001b[0m\u001b[0m\n\u001b[1;32m      2\u001b[0m \u001b[0;34m\u001b[0m\u001b[0m\n\u001b[0;32m----> 3\u001b[0;31m \u001b[0ma\u001b[0m \u001b[0;34m=\u001b[0m \u001b[0ma\u001b[0m\u001b[0;34m-\u001b[0m\u001b[0;36m1\u001b[0m\u001b[0;34m\u001b[0m\u001b[0;34m\u001b[0m\u001b[0m\n\u001b[0m\u001b[1;32m      4\u001b[0m \u001b[0;34m\u001b[0m\u001b[0m\n\u001b[1;32m      5\u001b[0m \u001b[0ma\u001b[0m\u001b[0;34m\u001b[0m\u001b[0;34m\u001b[0m\u001b[0m\n",
      "\u001b[0;31mTypeError\u001b[0m: unsupported operand type(s) for -: 'list' and 'int'"
     ]
    }
   ],
>>>>>>> 62de47784cdbe70dbde6f9723d9de98f427fbc8e
   "source": []
  }
 ],
 "metadata": {
  "kernelspec": {
   "display_name": "Python 3",
   "language": "python",
   "name": "python3"
  },
  "language_info": {
   "codemirror_mode": {
    "name": "ipython",
    "version": 3
   },
   "file_extension": ".py",
   "mimetype": "text/x-python",
   "name": "python",
   "nbconvert_exporter": "python",
   "pygments_lexer": "ipython3",
<<<<<<< HEAD
   "version": "3.6.9 (default, Nov 25 2022, 14:10:45) \n[GCC 8.4.0]"
=======
   "version": "3.10.7 (tags/v3.10.7:6cc6b13, Sep  5 2022, 14:08:36) [MSC v.1933 64 bit (AMD64)]"
>>>>>>> 55fc9faa14830670dc331cfc0da3b8e677f49d3f
  },
  "orig_nbformat": 4,
  "vscode": {
   "interpreter": {
    "hash": "61ccd7d91250bf5c42ce8ba89122ebeaf36617862967c9a94e5f00ec0cf47596"
   }
  }
 },
 "nbformat": 4,
 "nbformat_minor": 2
}
